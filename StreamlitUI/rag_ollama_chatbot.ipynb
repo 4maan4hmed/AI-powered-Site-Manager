{
 "cells": [
  {
   "cell_type": "code",
   "execution_count": 2,
   "id": "5e26c3c9",
   "metadata": {},
   "outputs": [],
   "source": [
    "\n",
    "from langchain_community.document_loaders import PyPDFLoader\n",
    "from langchain_community.document_loaders import TextLoader\n",
    "from langchain_community.document_loaders import DirectoryLoader\n",
    "\n",
    "loader = DirectoryLoader(\n",
    "    \"D:/Projects/Lattice interview 2/Summarise Report/\",\n",
    "    glob=\"*.txt\",\n",
    "    loader_cls=TextLoader\n",
    ")\n",
    "docs = loader.load()\n"
   ]
  },
  {
   "cell_type": "code",
   "execution_count": 3,
   "id": "8a0a52c9",
   "metadata": {},
   "outputs": [
    {
     "name": "stderr",
     "output_type": "stream",
     "text": [
      "C:\\Users\\amaan\\AppData\\Local\\Temp\\ipykernel_22660\\730556291.py:8: LangChainDeprecationWarning: The class `HuggingFaceEmbeddings` was deprecated in LangChain 0.2.2 and will be removed in 1.0. An updated version of the class exists in the :class:`~langchain-huggingface package and should be used instead. To use it run `pip install -U :class:`~langchain-huggingface` and import as `from :class:`~langchain_huggingface import HuggingFaceEmbeddings``.\n",
      "  embeddings = HuggingFaceEmbeddings(model_name=\"sentence-transformers/all-mpnet-base-v2\")\n",
      "d:\\Projects\\Lattice interview 2\\.venv\\Lib\\site-packages\\tqdm\\auto.py:21: TqdmWarning: IProgress not found. Please update jupyter and ipywidgets. See https://ipywidgets.readthedocs.io/en/stable/user_install.html\n",
      "  from .autonotebook import tqdm as notebook_tqdm\n"
     ]
    }
   ],
   "source": [
    "from langchain.text_splitter import RecursiveCharacterTextSplitter\n",
    "from langchain.embeddings import HuggingFaceEmbeddings\n",
    "from langchain.vectorstores import FAISS\n",
    "\n",
    "splitter = RecursiveCharacterTextSplitter(chunk_size=500, chunk_overlap=50)\n",
    "chunks = splitter.split_documents(docs)\n",
    "\n",
    "embeddings = HuggingFaceEmbeddings(model_name=\"sentence-transformers/all-mpnet-base-v2\")\n",
    "\n",
    "db = FAISS.from_documents(chunks, embeddings)\n"
   ]
  },
  {
   "cell_type": "code",
   "execution_count": 9,
   "id": "f3cfaef9",
   "metadata": {},
   "outputs": [
    {
     "name": "stdout",
     "output_type": "stream",
     "text": [
      "Daily Site Report - 2025-06-22\n",
      "\n",
      "No work done, Bad weather holiday\n",
      "\n",
      "Daily Site Report - 2025-06-22\n",
      "\n",
      "The following issues were observed today:\n",
      "\n",
      "1. Employee ID: 524562 raised a Safety Notice (Amber) regarding dim lights near the saw blade. This issue may potentially lead to accidents, and it is recommended that the lights be replaced or brightened for better visibility.\n",
      "\n",
      "2. Employee ID: 524562 reported that additional manpower is required for removing windows. This task may be delayed if not addressed promptly.\n",
      "\n",
      "Daily Site Report - 2025-06-19\n",
      "\n",
      "Today's report highlights the following issues and tasks:\n",
      "\n",
      "1. Safety Notice (Green) - Good Observation** - Employee ID 524572 reported good, clear exclusion zones and access throughout the site, contributing to a safe working environment.\n",
      "\n",
      "2. Progress Photo** - Employee ID 524575 took progress photos of the ongoing RC walls construction, showing steady advancement in the structural phase.\n",
      "\n",
      "3. Quality Defect (Material Handling)** - Employee ID 524578 identified that some Tyvec insulation material was not properly stored, potentially exposing it to damage. The materials team has been advised to ensure proper protection of finishes.\n",
      "\n",
      "The report has been prepared for your review and further action as needed.\n"
     ]
    }
   ],
   "source": [
    "query = \"Any day where work was not done on the project? If yes, then why?\"\n",
    "relevant_docs = db.similarity_search(query)\n",
    "\n",
    "context = \"\\n\\n\".join([doc.page_content for doc in relevant_docs])\n",
    "prompt = f\"\"\"You are going to Answer the question based on the context given below, be consize and try direct and correct answers only:\\n\\n{context}\\n\\nQuestion: {query}<|im_end|>\n",
    "<|im_start|> assistant\"\"\"\n",
    "print(context)\n"
   ]
  },
  {
   "cell_type": "code",
   "execution_count": 10,
   "id": "2c0f02d4",
   "metadata": {},
   "outputs": [
    {
     "name": "stdout",
     "output_type": "stream",
     "text": [
      ": Yes, according to the Daily Site Report for 2025-06-22, no work was done due to bad weather.\n"
     ]
    }
   ],
   "source": [
    "import requests\n",
    "LLAMA_URL = \"http://127.0.0.1:8080/completion\"\n",
    "rompt = f\"\"\"\n",
    "<|im_start|> You: Answer the question based on the context given below, be concise and try direct and correct answers only:\\n\\n{context}\\n\\nQuestion: {query}\n",
    "Observations:\n",
    "<|im_end|>\n",
    "<|im_start|> assistant\n",
    "\"\"\"\n",
    "payload = {\n",
    "                \"prompt\": prompt,\n",
    "                \"temperature\": 0.7, \n",
    "                \"n_predict\": 512,  # for longer reports\n",
    "                \"stream\": False,\n",
    "                \"stop\": [\"<|im_end|>\"],\n",
    "            }\n",
    "response = requests.post(LLAMA_URL, json=payload, timeout=120) # Increased timeout\n",
    "response.raise_for_status()\n",
    "result = response.json()\n",
    "ai_generated_report = result.get(\"content\", \"\").strip()\n",
    "print(ai_generated_report)"
   ]
  }
 ],
 "metadata": {
  "kernelspec": {
   "display_name": ".venv",
   "language": "python",
   "name": "python3"
  },
  "language_info": {
   "codemirror_mode": {
    "name": "ipython",
    "version": 3
   },
   "file_extension": ".py",
   "mimetype": "text/x-python",
   "name": "python",
   "nbconvert_exporter": "python",
   "pygments_lexer": "ipython3",
   "version": "3.12.10"
  }
 },
 "nbformat": 4,
 "nbformat_minor": 5
}
