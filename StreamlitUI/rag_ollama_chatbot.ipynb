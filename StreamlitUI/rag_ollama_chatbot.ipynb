{
 "cells": [
  {
   "cell_type": "code",
   "execution_count": 1,
   "id": "5e26c3c9",
   "metadata": {},
   "outputs": [],
   "source": [
    "\n",
    "from langchain_community.document_loaders import PyPDFLoader\n",
    "docs = PyPDFLoader(\"D:/Inventory managment System/SLM/RAG_Implementation/The Diary of a Young Girl.pdf\").load()\n"
   ]
  },
  {
   "cell_type": "code",
   "execution_count": 2,
   "id": "8a0a52c9",
   "metadata": {},
   "outputs": [
    {
     "name": "stderr",
     "output_type": "stream",
     "text": [
      "C:\\Users\\amaan\\AppData\\Local\\Temp\\ipykernel_4932\\730556291.py:8: LangChainDeprecationWarning: The class `HuggingFaceEmbeddings` was deprecated in LangChain 0.2.2 and will be removed in 1.0. An updated version of the class exists in the :class:`~langchain-huggingface package and should be used instead. To use it run `pip install -U :class:`~langchain-huggingface` and import as `from :class:`~langchain_huggingface import HuggingFaceEmbeddings``.\n",
      "  embeddings = HuggingFaceEmbeddings(model_name=\"sentence-transformers/all-mpnet-base-v2\")\n",
      "C:\\Users\\amaan\\AppData\\Roaming\\Python\\Python312\\site-packages\\tqdm\\auto.py:21: TqdmWarning: IProgress not found. Please update jupyter and ipywidgets. See https://ipywidgets.readthedocs.io/en/stable/user_install.html\n",
      "  from .autonotebook import tqdm as notebook_tqdm\n",
      "C:\\Users\\amaan\\AppData\\Roaming\\Python\\Python312\\site-packages\\triton\\windows_utils.py:433: UserWarning: Failed to find CUDA.\n",
      "  warnings.warn(\"Failed to find CUDA.\")\n"
     ]
    }
   ],
   "source": [
    "from langchain.text_splitter import RecursiveCharacterTextSplitter\n",
    "from langchain.embeddings import HuggingFaceEmbeddings\n",
    "from langchain.vectorstores import FAISS\n",
    "\n",
    "splitter = RecursiveCharacterTextSplitter(chunk_size=500, chunk_overlap=50)\n",
    "chunks = splitter.split_documents(docs)\n",
    "\n",
    "embeddings = HuggingFaceEmbeddings(model_name=\"sentence-transformers/all-mpnet-base-v2\")\n",
    "\n",
    "db = FAISS.from_documents(chunks, embeddings)\n"
   ]
  },
  {
   "cell_type": "code",
   "execution_count": 3,
   "id": "f3cfaef9",
   "metadata": {},
   "outputs": [
    {
     "name": "stdout",
     "output_type": "stream",
     "text": [
      "boyfriend troubles and a grouchy father, it’s no wonder she’s at the end of her \n",
      "Wednesday, September 29, 1943\n",
      "102\n",
      "\n",
      "Since no one would understand a word of my stories to Kitty if I were to \n",
      "plunge right in, I’d better provide a brief sketch of my life, much as I dislike doing \n",
      "so. My father, the most adorable father I’ve ever seen, didn’t marry my mother \n",
      "until he was thirty-six and she was twenty-five. My sister Margot was born in \n",
      "Frankfurt am Main in Germany in 1926. I was born on June 12, 1929. I lived in \n",
      "Frankfurt until I was four. Because we’re Jewish, my father immigrated to\n",
      "\n",
      "Monday, May 8, 1944\n",
      "Dearest Kitty,\n",
      "Have I ever told you anything about our family? I don’t think I have, so let \n",
      "me begin. Father was born in Frankfurt on Maine to very wealthy parents: \n",
      "Michael Frank owned a bank and became a millionaire, and Alice Stern’s parents \n",
      "were prominent and well-to-do. Michael Frank didn’t start out rich; he was a \n",
      "self-made man. In his youth Father led the life of a rich man’s son. Parties every\n",
      "\n",
      "blabs whatever you tell her to her mother. But she says what she thinks, and \n",
      "lately I’ve come to appreciate her a great deal.\n",
      "Nannie van Praag-Sigaar is small, funny and sensible. I think she’s nice. \n",
      "She’s pretty smart. There isn’t much else you can say about Nannie. Eefje de Jong \n",
      "is, in my opinion, terrific. Though she’s only twelve, she’s quite the lady. She acts \n",
      "as if I were a baby. She’s also very helpful, and I like her.\n"
     ]
    }
   ],
   "source": [
    "query = \"Tell me about her dad\"\n",
    "relevant_docs = db.similarity_search(query)\n",
    "\n",
    "context = \"\\n\\n\".join([doc.page_content for doc in relevant_docs])\n",
    "prompt = f\"Answer the question based on the context:\\n\\n{context}\\n\\nQuestion: {query}\"\n",
    "print(context)\n"
   ]
  },
  {
   "cell_type": "code",
   "execution_count": 11,
   "id": "60a9a185",
   "metadata": {},
   "outputs": [],
   "source": [
    "import subprocess\n",
    "\n",
    "def ask_ollama(prompt):\n",
    "    result = subprocess.run(\n",
    "        ['ollama', 'run', 'mistral'],\n",
    "        input=prompt,\n",
    "        text=True,\n",
    "        capture_output=True\n",
    "    )\n",
    "    return result.stdout\n",
    "\n"
   ]
  },
  {
   "cell_type": "code",
   "execution_count": 12,
   "id": "a75af8f2",
   "metadata": {},
   "outputs": [
    {
     "name": "stdout",
     "output_type": "stream",
     "text": [
      "Prompt sent to Ollama:\n",
      " Answer the question based on the context:\n",
      "\n",
      "Anne Frank and her family, fleeing the horrors of Nazi occupation, hid in \n",
      "the back of an Amsterdam warehouse for two years. She was thirteen when the \n",
      "family went into the Secret Annex, and in these pages she grows to be a young \n",
      "woman and a wise observer of human nature as well. With unusual insight, she \n",
      "reveals the relations between eight people living under extraordinary conditions, \n",
      "4\n",
      "\n",
      "By Anne Frank\n",
      "The Diary Of A Young Girl: \n",
      "Unabridged Narration\n",
      "The Diary Of A Young Girl\n",
      "Anne Frank’s The Diary of a Young Girl is among the most enduring \n",
      "documents of the twentieth century. Since its publication in 1947, it has been \n",
      "read by millions of people all over the world. It remains a beloved and deeply \n",
      "admired testament to the indestructible nature of the human spirit.\n",
      "Restored in this Definitive Edition are diary entries that had been omitted\n",
      "\n",
      "modern world had seen and who remained triumphantly and heartbreakingly \n",
      "human throughout her ordeal.\n",
      "Anne Frank was born on June 12, 1929. She died while imprisoned at \n",
      "Bergen-Belsen, three months short of her sixteenth birthday. Otto H. Frank was \n",
      "the only member of his immediate family to survive the Holocaust. He died in \n",
      "1980.\n",
      "Anne Frank kept a diary from June 12, 1942, to August 1, 1944. Initially, she \n",
      "wrote it strictly for herself. Then, one day in 1944, Gerrit Bolkeste in, a member\n",
      "\n",
      "writing’s all mixed up, I’m jumping from one thing to another, and sometimes I \n",
      "seriously doubt whether anyone will ever be interested in this drivel. They’ll \n",
      "probably call it”The Musings of an Ugly Duckling.” My diaries certainly won’t \n",
      "be of much use to Mr. Bolkestein or Mr. Gerbrandy.* [* Gerrit Bolkestein was the \n",
      "Minister of Education and Pieter Gerbrandy was the Prime Minister of the Dutch \n",
      "government in exile in London. See Anne’s letter of March 29, 1944.]\n",
      "Yours, Anne M. Frank\n",
      "166\n",
      "\n",
      "Question: What nursery did Anne Frank go to \n"
     ]
    },
    {
     "name": "stderr",
     "output_type": "stream",
     "text": [
      "Exception in thread Thread-9 (_readerthread):\n",
      "Traceback (most recent call last):\n",
      "  File \"c:\\Python312\\Lib\\threading.py\", line 1075, in _bootstrap_inner\n",
      "    self.run()\n",
      "  File \"C:\\Users\\amaan\\AppData\\Roaming\\Python\\Python312\\site-packages\\ipykernel\\ipkernel.py\", line 766, in run_closure\n",
      "    _threading_Thread_run(self)\n",
      "  File \"c:\\Python312\\Lib\\threading.py\", line 1012, in run\n",
      "    self._target(*self._args, **self._kwargs)\n",
      "  File \"c:\\Python312\\Lib\\subprocess.py\", line 1599, in _readerthread\n",
      "    buffer.append(fh.read())\n",
      "                  ^^^^^^^^^\n",
      "  File \"c:\\Python312\\Lib\\encodings\\cp1252.py\", line 23, in decode\n",
      "    return codecs.charmap_decode(input,self.errors,decoding_table)[0]\n",
      "           ^^^^^^^^^^^^^^^^^^^^^^^^^^^^^^^^^^^^^^^^^^^^^^^^^^^^^^^\n",
      "UnicodeDecodeError: 'charmap' codec can't decode byte 0x8f in position 200: character maps to <undefined>\n"
     ]
    },
    {
     "name": "stdout",
     "output_type": "stream",
     "text": [
      "Response:\n",
      "  The text provided does not contain information about the nursery that Anne Frank went to.\n",
      "\n",
      "\n"
     ]
    }
   ],
   "source": [
    "print(\"Prompt sent to Ollama:\\n\", prompt)\n",
    "response = ask_ollama(prompt)\n",
    "print(\"Response:\\n\", response)\n"
   ]
  },
  {
   "cell_type": "code",
   "execution_count": null,
   "id": "2c0f02d4",
   "metadata": {},
   "outputs": [],
   "source": []
  }
 ],
 "metadata": {
  "kernelspec": {
   "display_name": "Python 3",
   "language": "python",
   "name": "python3"
  },
  "language_info": {
   "codemirror_mode": {
    "name": "ipython",
    "version": 3
   },
   "file_extension": ".py",
   "mimetype": "text/x-python",
   "name": "python",
   "nbconvert_exporter": "python",
   "pygments_lexer": "ipython3",
   "version": "3.12.6"
  }
 },
 "nbformat": 4,
 "nbformat_minor": 5
}
