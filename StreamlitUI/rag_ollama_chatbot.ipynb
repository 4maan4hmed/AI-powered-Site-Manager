{
 "cells": [
  {
   "cell_type": "code",
   "execution_count": null,
   "id": "5e26c3c9",
   "metadata": {},
   "outputs": [],
   "source": [
    "from langchain_community.document_loaders import TextLoader\n",
    "from langchain_community.document_loaders import DirectoryLoader\n",
    "\n",
    "loader = DirectoryLoader(\n",
    "    \"D:/Projects/Lattice interview 2/Summarise Report/\",\n",
    "    glob=\"*.txt\",\n",
    "    loader_cls=TextLoader\n",
    ")\n",
    "docs = loader.load()\n"
   ]
  },
  {
   "cell_type": "code",
   "execution_count": null,
   "id": "8a0a52c9",
   "metadata": {},
   "outputs": [],
   "source": [
    "from langchain.text_splitter import RecursiveCharacterTextSplitter\n",
    "from langchain.embeddings import HuggingFaceEmbeddings\n",
    "from langchain.vectorstores import FAISS\n",
    "\n",
    "splitter = RecursiveCharacterTextSplitter(chunk_size=500, chunk_overlap=50)\n",
    "chunks = splitter.split_documents(docs)\n",
    "embeddings = HuggingFaceEmbeddings(model_name=\"sentence-transformers/all-mpnet-base-v2\")\n",
    "db = FAISS.from_documents(chunks, embeddings) #Qdrant is a better option for production use\n"
   ]
  },
  {
   "cell_type": "code",
   "execution_count": null,
   "id": "f3cfaef9",
   "metadata": {},
   "outputs": [
    {
     "name": "stdout",
     "output_type": "stream",
     "text": [
      "[Document(id='99364655-ee14-4320-9208-2526f3385292', metadata={'source': 'D:\\\\Projects\\\\Lattice interview 2\\\\Summarise Report\\\\2025-06-19_ground_site_report.txt'}, page_content=\"Daily Site Report - 2025-06-19\\n\\nToday's report highlights the following issues and tasks:\\n\\n1. Safety Notice (Green) - Good Observation** - Employee ID 524572 reported good, clear exclusion zones and access throughout the site, contributing to a safe working environment.\\n\\n2. Progress Photo** - Employee ID 524575 took progress photos of the ongoing RC walls construction, showing steady advancement in the structural phase.\"), Document(id='ecdef388-78fa-45e4-a2af-8c772f7f9a93', metadata={'source': 'D:\\\\Projects\\\\Lattice interview 2\\\\Summarise Report\\\\2025-06-20_ground_site_report.txt'}, page_content='Daily Site Report - 2025-06-22\\n\\nNo work done, Bad weather holiday'), Document(id='24c5678a-7357-471d-b173-f1a4c813b15d', metadata={'source': 'D:\\\\Projects\\\\Lattice interview 2\\\\Summarise Report\\\\2025-06-21_ground_site_report.txt'}, page_content=\"Daily Site Report - 2025-06-20\\n\\nToday's report highlights the following issues and tasks:\"), Document(id='e9450ef3-634b-41b1-b60f-b0f573f19f0c', metadata={'source': 'D:\\\\Projects\\\\Lattice interview 2\\\\Summarise Report\\\\2025-06-22_ground_site_report.txt'}, page_content='Daily Site Report - 2025-06-22\\n\\nThe following issues were observed today:\\n\\n1. Employee ID: 524562 raised a Safety Notice (Amber) regarding dim lights near the saw blade. This issue may potentially lead to accidents, and it is recommended that the lights be replaced or brightened for better visibility.\\n\\n2. Employee ID: 524562 reported that additional manpower is required for removing windows. This task may be delayed if not addressed promptly.')]\n",
      "Daily Site Report - 2025-06-19\n",
      "\n",
      "Today's report highlights the following issues and tasks:\n",
      "\n",
      "1. Safety Notice (Green) - Good Observation** - Employee ID 524572 reported good, clear exclusion zones and access throughout the site, contributing to a safe working environment.\n",
      "\n",
      "2. Progress Photo** - Employee ID 524575 took progress photos of the ongoing RC walls construction, showing steady advancement in the structural phase.\n",
      "\n",
      "Daily Site Report - 2025-06-22\n",
      "\n",
      "No work done, Bad weather holiday\n",
      "\n",
      "Daily Site Report - 2025-06-20\n",
      "\n",
      "Today's report highlights the following issues and tasks:\n",
      "\n",
      "Daily Site Report - 2025-06-22\n",
      "\n",
      "The following issues were observed today:\n",
      "\n",
      "1. Employee ID: 524562 raised a Safety Notice (Amber) regarding dim lights near the saw blade. This issue may potentially lead to accidents, and it is recommended that the lights be replaced or brightened for better visibility.\n",
      "\n",
      "2. Employee ID: 524562 reported that additional manpower is required for removing windows. This task may be delayed if not addressed promptly.\n"
     ]
    }
   ],
   "source": [
    "\n",
    "query = \"was there any images of the site taken\"\n",
    "relevant_docs = db.similarity_search(query)\n",
    "print(relevant_docs)\n",
    "context = \"\\n\\n\".join([doc.page_content for doc in relevant_docs])\n",
    "prompt = f\"\"\"You are going to Answer the question based on the context given below, be consize and try direct and correct answers only:\\n\\n \\n{context}\\n\\nQuestion: {query}<|im_end|>\n",
    "<|im_start|> assistant\"\"\"\n",
    "print(context)\n"
   ]
  },
  {
   "cell_type": "code",
   "execution_count": 30,
   "id": "2c0f02d4",
   "metadata": {},
   "outputs": [
    {
     "name": "stdout",
     "output_type": "stream",
     "text": [
      ": Yes, a progress photo was taken on the 19th of June by Employee ID 524575.\n"
     ]
    }
   ],
   "source": [
    "import requests\n",
    "LLAMA_URL = \"http://127.0.0.1:8080/completion\"\n",
    "rompt = f\"\"\"\n",
    "<|im_start|> You: Answer the question based on the context given below, be concise and try direct and correct answers only:\\n\\n{context}\\n\\nQuestion: {query}\n",
    "Observations:\n",
    "<|im_end|>\n",
    "<|im_start|> assistant\n",
    "\"\"\"\n",
    "payload = {\n",
    "                \"prompt\": prompt,\n",
    "                \"temperature\": 0.7, \n",
    "                \"n_predict\": 512,  # for longer reports\n",
    "                \"stream\": False,\n",
    "                \"stop\": [\"<|im_end|>\"],\n",
    "            }\n",
    "response = requests.post(LLAMA_URL, json=payload, timeout=120) # Increased timeout\n",
    "response.raise_for_status()\n",
    "result = response.json()\n",
    "ai_generated_report = result.get(\"content\", \"\").strip()\n",
    "print(ai_generated_report)"
   ]
  }
 ],
 "metadata": {
  "kernelspec": {
   "display_name": ".venv",
   "language": "python",
   "name": "python3"
  },
  "language_info": {
   "codemirror_mode": {
    "name": "ipython",
    "version": 3
   },
   "file_extension": ".py",
   "mimetype": "text/x-python",
   "name": "python",
   "nbconvert_exporter": "python",
   "pygments_lexer": "ipython3",
   "version": "3.12.10"
  }
 },
 "nbformat": 4,
 "nbformat_minor": 5
}
